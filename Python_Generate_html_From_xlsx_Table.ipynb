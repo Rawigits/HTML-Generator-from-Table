{
  "nbformat": 4,
  "nbformat_minor": 0,
  "metadata": {
    "colab": {
      "provenance": [],
      "include_colab_link": true
    },
    "kernelspec": {
      "name": "python3",
      "display_name": "Python 3"
    },
    "language_info": {
      "name": "python"
    },
    "widgets": {
      "application/vnd.jupyter.widget-state+json": {
        "ecc85e7fa4ef43c3b60dea41300c198b": {
          "model_module": "@jupyter-widgets/controls",
          "model_name": "DropdownModel",
          "model_module_version": "1.5.0",
          "state": {
            "_dom_classes": [],
            "_model_module": "@jupyter-widgets/controls",
            "_model_module_version": "1.5.0",
            "_model_name": "DropdownModel",
            "_options_labels": [
              "Shera Item.gsheet",
              "DOS ITEM Price List.xlsx"
            ],
            "_view_count": null,
            "_view_module": "@jupyter-widgets/controls",
            "_view_module_version": "1.5.0",
            "_view_name": "DropdownView",
            "description": "เลือก Excel File:",
            "description_tooltip": null,
            "disabled": false,
            "index": 0,
            "layout": "IPY_MODEL_5cf7a1952b7143cd918a5d575aafb998",
            "style": "IPY_MODEL_2d6138c9d51a4de081477ce8ba9d465a"
          }
        },
        "5cf7a1952b7143cd918a5d575aafb998": {
          "model_module": "@jupyter-widgets/base",
          "model_name": "LayoutModel",
          "model_module_version": "1.2.0",
          "state": {
            "_model_module": "@jupyter-widgets/base",
            "_model_module_version": "1.2.0",
            "_model_name": "LayoutModel",
            "_view_count": null,
            "_view_module": "@jupyter-widgets/base",
            "_view_module_version": "1.2.0",
            "_view_name": "LayoutView",
            "align_content": null,
            "align_items": null,
            "align_self": null,
            "border": null,
            "bottom": null,
            "display": null,
            "flex": null,
            "flex_flow": null,
            "grid_area": null,
            "grid_auto_columns": null,
            "grid_auto_flow": null,
            "grid_auto_rows": null,
            "grid_column": null,
            "grid_gap": null,
            "grid_row": null,
            "grid_template_areas": null,
            "grid_template_columns": null,
            "grid_template_rows": null,
            "height": null,
            "justify_content": null,
            "justify_items": null,
            "left": null,
            "margin": null,
            "max_height": null,
            "max_width": null,
            "min_height": null,
            "min_width": null,
            "object_fit": null,
            "object_position": null,
            "order": null,
            "overflow": null,
            "overflow_x": null,
            "overflow_y": null,
            "padding": null,
            "right": null,
            "top": null,
            "visibility": null,
            "width": null
          }
        },
        "2d6138c9d51a4de081477ce8ba9d465a": {
          "model_module": "@jupyter-widgets/controls",
          "model_name": "DescriptionStyleModel",
          "model_module_version": "1.5.0",
          "state": {
            "_model_module": "@jupyter-widgets/controls",
            "_model_module_version": "1.5.0",
            "_model_name": "DescriptionStyleModel",
            "_view_count": null,
            "_view_module": "@jupyter-widgets/base",
            "_view_module_version": "1.2.0",
            "_view_name": "StyleView",
            "description_width": ""
          }
        }
      }
    }
  },
  "cells": [
    {
      "cell_type": "markdown",
      "metadata": {
        "id": "view-in-github",
        "colab_type": "text"
      },
      "source": [
        "<a href=\"https://colab.research.google.com/github/Rawigits/HTML-Generator-from-Table/blob/main/Python_Generate_html_From_xlsx_Table.ipynb\" target=\"_parent\"><img src=\"https://colab.research.google.com/assets/colab-badge.svg\" alt=\"Open In Colab\"/></a>"
      ]
    },
    {
      "cell_type": "markdown",
      "source": [
        "สร้างโฟลเดอร์สำหรับอัปโหลด Excel / Creating excel upload folder\n",
        "จากนั้นให้อัปโหลดไฟล์ใส่ไว้ในโฟลเดอร์ที่สร้างชื่อ \"_EXCEL_GENERATE_HTML\""
      ],
      "metadata": {
        "id": "q9Oz6lbL8MrF"
      }
    },
    {
      "cell_type": "code",
      "execution_count": null,
      "metadata": {
        "id": "e7zXE2Jm5F84",
        "colab": {
          "base_uri": "https://localhost:8080/",
          "height": 86,
          "referenced_widgets": [
            "ecc85e7fa4ef43c3b60dea41300c198b",
            "5cf7a1952b7143cd918a5d575aafb998",
            "2d6138c9d51a4de081477ce8ba9d465a"
          ]
        },
        "outputId": "48d23e22-a81e-4645-8e44-94677f1603dc"
      },
      "outputs": [
        {
          "output_type": "stream",
          "name": "stdout",
          "text": [
            "Drive already mounted at /content/gdrive; to attempt to forcibly remount, call drive.mount(\"/content/gdrive\", force_remount=True).\n"
          ]
        },
        {
          "output_type": "display_data",
          "data": {
            "text/plain": [
              "Dropdown(description='เลือก Excel File:', options=('Shera Item.gsheet', 'DOS ITEM Price List.xlsx'), value='Sh…"
            ],
            "application/vnd.jupyter.widget-view+json": {
              "version_major": 2,
              "version_minor": 0,
              "model_id": "ecc85e7fa4ef43c3b60dea41300c198b"
            }
          },
          "metadata": {}
        }
      ],
      "source": [
        "# @title\n",
        "from google.colab import files\n",
        "from google.colab import drive\n",
        "drive.mount('/content/gdrive')\n",
        "import os\n",
        "drive_folder_path = '/content/gdrive/MyDrive/_EXCEL_GENERATE_HTML'\n",
        "if not os.path.exists(drive_folder_path):\n",
        "    os.makedirs(drive_folder_path)\n",
        "# Change the current working directory to the newly created folder\n",
        "os.chdir(drive_folder_path)\n",
        "\n",
        "import pandas as pd\n",
        "from IPython.display import display, HTML\n",
        "import ipywidgets as widgets\n",
        "import sys\n",
        "# Function to get a list of Excel files in the folder\n",
        "def get_excel_files():\n",
        "    filetype = ('.xlsx', '.gsheet')\n",
        "    excel_files = [file for file in os.listdir() if file.endswith(filetype)]\n",
        "    if (len(excel_files) == 0):\n",
        "        print(\"ใส่ไฟล์ Excel ไว้ที่โฟลเดอร์ _EXCEL_GENERATE_HTML\")\n",
        "    return excel_files\n",
        "# Get the list of Excel files\n",
        "excel_files = get_excel_files()\n",
        "# Display the list of Excel files\n",
        "file_list_widget = widgets.Dropdown(\n",
        "    options=excel_files,\n",
        "    description='เลือก Excel File:'\n",
        ")\n",
        "display(file_list_widget)\n"
      ]
    },
    {
      "cell_type": "markdown",
      "source": [
        "โหลดไฟล์ YAML /Upload YAML file\n",
        "\n",
        "ใส่คำค้นหาคอลัมน์แรก และหมายเลขชีทของ Excel"
      ],
      "metadata": {
        "id": "ux3Msc9A8URe"
      }
    },
    {
      "cell_type": "code",
      "source": [
        "selected_file = file_list_widget.value\n",
        "xlsx_path = selected_file\n",
        "\n",
        "import urllib.request\n",
        "urllib.request.urlretrieve(\"https://raw.githubusercontent.com/Rawigits/HTML-Generator-from-Table/main/config.yaml\", \"config.yaml\")\n",
        "print(\"Selected File:\", xlsx_path)\n",
        "yaml_path = \"config.yaml\"\n",
        "findtext = input(\"Enter First column: \")\n",
        "sheetnumber = input(\"Enter sheet number: \")"
      ],
      "metadata": {
        "collapsed": true,
        "id": "87z41DA_8cfF"
      },
      "execution_count": null,
      "outputs": []
    },
    {
      "cell_type": "markdown",
      "source": [
        "เปิดการทำงานอ่านค่าจาก Excel และสร้างตาราง html"
      ],
      "metadata": {
        "id": "96U8vxsy_4aN"
      }
    },
    {
      "cell_type": "code",
      "source": [
        "# @title\n",
        "%pip install openpyxl\n",
        "import os\n",
        "import re\n",
        "import openpyxl\n",
        "\n",
        "def reader(filepath, sheetnumber, findtext):\n",
        "    textlist = []\n",
        "    workbook = openpyxl.load_workbook(filepath)\n",
        "    sheets = workbook.sheetnames\n",
        "    # sh = workbook[sheets[0]]\n",
        "    sh = workbook[sheets[int(sheetnumber) - 1]]\n",
        "\n",
        "    for row in range(1, sh.max_row + 1):\n",
        "        if str(findtext) in str(sh.cell(row,1).value) :\n",
        "            for selected_row in range(row, sh.max_row + 1):\n",
        "                row_text = []\n",
        "                for column in range(2, sh.max_column + 2):\n",
        "                    if sh.cell(selected_row,column).value != None:\n",
        "                        row_text += [sh.cell(selected_row,column).value]\n",
        "                    else:\n",
        "                        textlist.append(row_text)\n",
        "                        # print (textlist)\n",
        "                        break\n",
        "                if sh.cell(selected_row + 1,1).value != None:\n",
        "                    break\n",
        "        else:\n",
        "            pass\n",
        "    return textlist\n",
        "textlist = reader(xlsx_path, sheetnumber, findtext)\n",
        "\n",
        "\n",
        "%pip install ruamel.yaml\n",
        "from ruamel.yaml import YAML\n",
        "\n",
        "def open_configfile(action, index , newvalue = None):\n",
        "    if (action == \"getvalue\"):\n",
        "        with open(\"config.yaml\", \"r\") as yamlfile:\n",
        "            yaml=YAML(typ=\"rt\")\n",
        "            yaml.preserve_quotes = True\n",
        "            yaml.default_flow_style = False\n",
        "            yaml.default_style = '|'\n",
        "\n",
        "            configfile = yaml.load(yamlfile)\n",
        "            value = configfile[index]\n",
        "            yamlfile.close()\n",
        "            return value\n",
        "\n",
        "    elif (action == \"setvalue\"):\n",
        "        with open(\"config.yaml\", \"r\") as yamlfile:\n",
        "            yaml=YAML()\n",
        "            configfile = yaml.load(yamlfile)\n",
        "\n",
        "        configfile[index] = str(newvalue)\n",
        "        with open(\"config.yaml\", \"w\") as yamlfile:\n",
        "            yaml.preserve_quotes = True\n",
        "            yaml.default_flow_style = False\n",
        "            yaml.default_style = '|'\n",
        "\n",
        "            yaml.dump(configfile, yamlfile)\n",
        "            print(f\"Saved {newvalue} to {index}\")\n",
        "            yamlfile.close()\n",
        "    else:\n",
        "        print(\"wrong action\")\n",
        "\n",
        "def generatehtml(textlist):\n",
        "    tablestyle = open_configfile(action=\"getvalue\", index=\"style_green_header_table\")\n",
        "    tableclass = open_configfile(action=\"getvalue\", index=\"tableclass\")\n",
        "    # print(f'{tablestyle}\\n{tableclass}')\n",
        "\n",
        "    if (textlist == None):\n",
        "        print(\"No textlist\")\n",
        "        return\n",
        "\n",
        "    tableend = '</table>'\n",
        "    htmltext = ''\n",
        "    texthead = '  <tr>'\n",
        "    textrow = '  <tr>'\n",
        "\n",
        "    for i,textget in enumerate(textlist):\n",
        "        if (i == 0):\n",
        "            for text in textget:\n",
        "                texthead += f'''\n",
        "    <th style=\"background-color:#00b312\">{text}</th>'''\n",
        "            texthead += '''\n",
        "  </tr>'''\n",
        "        else:\n",
        "            for text in textget:\n",
        "                textrow += f'''\n",
        "    <td>{text}</td>'''\n",
        "            textrow += '''\n",
        "  </tr>'''\n",
        "    # print('table html =\\n',texthead)\n",
        "    # print('row html =\\n',textrow)\n",
        "    htmltext = f'{tablestyle}\\n{tableclass}\\n{texthead}\\n{textrow}\\n{tableend}'\n",
        "    return htmltext\n",
        "\n",
        "html = generatehtml(textlist)"
      ],
      "metadata": {
        "collapsed": true,
        "id": "YdcZyaPu7irz"
      },
      "execution_count": null,
      "outputs": []
    },
    {
      "cell_type": "markdown",
      "source": [
        "กดเพือแสดงผลลัพธ์"
      ],
      "metadata": {
        "id": "aTQIk_a8_81W"
      }
    },
    {
      "cell_type": "code",
      "source": [
        "# @title\n",
        "print(html)"
      ],
      "metadata": {
        "id": "QNnkJOa6PwhP"
      },
      "execution_count": null,
      "outputs": []
    }
  ]
}