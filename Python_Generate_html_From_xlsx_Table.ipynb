{
  "nbformat": 4,
  "nbformat_minor": 0,
  "metadata": {
    "colab": {
      "provenance": [],
      "include_colab_link": true
    },
    "kernelspec": {
      "name": "python3",
      "display_name": "Python 3"
    },
    "language_info": {
      "name": "python"
    },
    "widgets": {
      "application/vnd.jupyter.widget-state+json": {
        "722c192e5cfc46a1af03f9ee554b6c7c": {
          "model_module": "@jupyter-widgets/controls",
          "model_name": "DropdownModel",
          "model_module_version": "1.5.0",
          "state": {
            "_dom_classes": [],
            "_model_module": "@jupyter-widgets/controls",
            "_model_module_version": "1.5.0",
            "_model_name": "DropdownModel",
            "_options_labels": [
              "DOS ITEM Price List.xlsx",
              "Shera Item not use.gsheet",
              "Shera Item.xlsx"
            ],
            "_view_count": null,
            "_view_module": "@jupyter-widgets/controls",
            "_view_module_version": "1.5.0",
            "_view_name": "DropdownView",
            "description": "เลือก Excel File:",
            "description_tooltip": null,
            "disabled": false,
            "index": 2,
            "layout": "IPY_MODEL_128d196268564514a4e64312606647d7",
            "style": "IPY_MODEL_798ce4ee824d447fa3cb5e541a100965"
          }
        },
        "128d196268564514a4e64312606647d7": {
          "model_module": "@jupyter-widgets/base",
          "model_name": "LayoutModel",
          "model_module_version": "1.2.0",
          "state": {
            "_model_module": "@jupyter-widgets/base",
            "_model_module_version": "1.2.0",
            "_model_name": "LayoutModel",
            "_view_count": null,
            "_view_module": "@jupyter-widgets/base",
            "_view_module_version": "1.2.0",
            "_view_name": "LayoutView",
            "align_content": null,
            "align_items": null,
            "align_self": null,
            "border": null,
            "bottom": null,
            "display": null,
            "flex": null,
            "flex_flow": null,
            "grid_area": null,
            "grid_auto_columns": null,
            "grid_auto_flow": null,
            "grid_auto_rows": null,
            "grid_column": null,
            "grid_gap": null,
            "grid_row": null,
            "grid_template_areas": null,
            "grid_template_columns": null,
            "grid_template_rows": null,
            "height": null,
            "justify_content": null,
            "justify_items": null,
            "left": null,
            "margin": null,
            "max_height": null,
            "max_width": null,
            "min_height": null,
            "min_width": null,
            "object_fit": null,
            "object_position": null,
            "order": null,
            "overflow": null,
            "overflow_x": null,
            "overflow_y": null,
            "padding": null,
            "right": null,
            "top": null,
            "visibility": null,
            "width": null
          }
        },
        "798ce4ee824d447fa3cb5e541a100965": {
          "model_module": "@jupyter-widgets/controls",
          "model_name": "DescriptionStyleModel",
          "model_module_version": "1.5.0",
          "state": {
            "_model_module": "@jupyter-widgets/controls",
            "_model_module_version": "1.5.0",
            "_model_name": "DescriptionStyleModel",
            "_view_count": null,
            "_view_module": "@jupyter-widgets/base",
            "_view_module_version": "1.2.0",
            "_view_name": "StyleView",
            "description_width": ""
          }
        }
      }
    }
  },
  "cells": [
    {
      "cell_type": "markdown",
      "metadata": {
        "id": "view-in-github",
        "colab_type": "text"
      },
      "source": [
        "<a href=\"https://colab.research.google.com/github/Rawigits/HTML-Generator-from-Table/blob/main/Python_Generate_html_From_xlsx_Table.ipynb\" target=\"_parent\"><img src=\"https://colab.research.google.com/assets/colab-badge.svg\" alt=\"Open In Colab\"/></a>"
      ]
    },
    {
      "cell_type": "markdown",
      "source": [
        "สร้างโฟลเดอร์สำหรับอัปโหลด Excel / Creating excel upload folder\n",
        "จากนั้นให้อัปโหลดไฟล์ใส่ไว้ในโฟลเดอร์ที่สร้างชื่อ \"_EXCEL_GENERATE_HTML\""
      ],
      "metadata": {
        "id": "q9Oz6lbL8MrF"
      }
    },
    {
      "cell_type": "code",
      "execution_count": 1,
      "metadata": {
        "id": "e7zXE2Jm5F84",
        "cellView": "form",
        "colab": {
          "base_uri": "https://localhost:8080/",
          "height": 153,
          "referenced_widgets": [
            "722c192e5cfc46a1af03f9ee554b6c7c",
            "128d196268564514a4e64312606647d7",
            "798ce4ee824d447fa3cb5e541a100965"
          ]
        },
        "outputId": "dfcab6b1-e2a5-4c67-d329-03c556c44b50"
      },
      "outputs": [
        {
          "output_type": "stream",
          "name": "stdout",
          "text": [
            "\u001b[2K     \u001b[90m━━━━━━━━━━━━━━━━━━━━━━━━━━━━━━━━━━━━━━━━\u001b[0m \u001b[32m1.4/1.4 MB\u001b[0m \u001b[31m7.9 MB/s\u001b[0m eta \u001b[36m0:00:00\u001b[0m\n",
            "\u001b[2K     \u001b[90m━━━━━━━━━━━━━━━━━━━━━━━━━━━━━━━━━━━━━━━━\u001b[0m \u001b[32m45.5/45.5 kB\u001b[0m \u001b[31m3.9 MB/s\u001b[0m eta \u001b[36m0:00:00\u001b[0m\n",
            "\u001b[2K     \u001b[90m━━━━━━━━━━━━━━━━━━━━━━━━━━━━━━━━━━━━━━━━\u001b[0m \u001b[32m51.0/51.0 kB\u001b[0m \u001b[31m4.5 MB/s\u001b[0m eta \u001b[36m0:00:00\u001b[0m\n",
            "\u001b[?25h  Preparing metadata (setup.py) ... \u001b[?25l\u001b[?25hdone\n",
            "  Building wheel for ligo-segments (setup.py) ... \u001b[?25l\u001b[?25hdone\n",
            "Mounted at /content/gdrive\n"
          ]
        },
        {
          "output_type": "display_data",
          "data": {
            "text/plain": [
              "Dropdown(description='เลือก Excel File:', options=('DOS ITEM Price List.xlsx', 'Shera Item not use.gsheet', 'S…"
            ],
            "application/vnd.jupyter.widget-view+json": {
              "version_major": 2,
              "version_minor": 0,
              "model_id": "722c192e5cfc46a1af03f9ee554b6c7c"
            }
          },
          "metadata": {}
        }
      ],
      "source": [
        "# @title\n",
        "!pip install -q gwpy # add %%capture to remove pip install display\n",
        "\n",
        "from google.colab import files\n",
        "from google.colab import drive\n",
        "drive.mount('/content/gdrive')\n",
        "import os\n",
        "drive_folder_path = '/content/gdrive/MyDrive/_EXCEL_GENERATE_HTML'\n",
        "if not os.path.exists(drive_folder_path):\n",
        "    os.makedirs(drive_folder_path)\n",
        "# Change the current working directory to the newly created folder\n",
        "os.chdir(drive_folder_path)\n",
        "\n",
        "import pandas as pd\n",
        "from IPython.display import display, HTML\n",
        "import ipywidgets as widgets\n",
        "import sys\n",
        "# Function to get a list of Excel files in the folder\n",
        "def get_excel_files():\n",
        "    filetype = ('.xlsx', '.gsheet')\n",
        "    excel_files = [file for file in os.listdir() if file.endswith(filetype)]\n",
        "    if (len(excel_files) == 0):\n",
        "        print(\"ใส่ไฟล์ Excel ไว้ที่โฟลเดอร์ _EXCEL_GENERATE_HTML\")\n",
        "    return excel_files\n",
        "# Get the list of Excel files\n",
        "excel_files = get_excel_files()\n",
        "# Display the list of Excel files\n",
        "file_list_widget = widgets.Dropdown(\n",
        "    options=excel_files,\n",
        "    description='เลือก Excel File:'\n",
        ")\n",
        "display(file_list_widget)\n"
      ]
    },
    {
      "cell_type": "markdown",
      "source": [
        "ป้อมลำดับหมายเลขชีทของ Excel"
      ],
      "metadata": {
        "id": "VyOktnzAovGf"
      }
    },
    {
      "cell_type": "code",
      "source": [
        "# @title\n",
        "sheetnumber = input(\"Enter sheet number: \")"
      ],
      "metadata": {
        "cellView": "form",
        "id": "YfmNs_Q5otiY",
        "colab": {
          "base_uri": "https://localhost:8080/"
        },
        "outputId": "a2ec5db5-87be-48db-cd89-df07a6231b56"
      },
      "execution_count": 2,
      "outputs": [
        {
          "name": "stdout",
          "output_type": "stream",
          "text": [
            "Enter sheet number: 3\n"
          ]
        }
      ]
    },
    {
      "cell_type": "markdown",
      "source": [
        "โหลดไฟล์ YAML เวอร์ชั่นล่าสุด / Update lastest version YAML\n",
        "\n",
        "โปรดใส่คำค้นหาคอลัมน์แรก"
      ],
      "metadata": {
        "id": "ux3Msc9A8URe"
      }
    },
    {
      "cell_type": "code",
      "source": [
        "# @title\n",
        "selected_file = file_list_widget.value\n",
        "xlsx_path = selected_file\n",
        "\n",
        "import urllib.request\n",
        "urllib.request.urlretrieve(\"https://raw.githubusercontent.com/Rawigits/HTML-Generator-from-Table/main/config.yaml\", \"config.yaml\")\n",
        "print(\"Selected File:\", xlsx_path)\n",
        "yaml_path = \"config.yaml\"\n",
        "findtext = input(\"Enter First column: \")"
      ],
      "metadata": {
        "collapsed": true,
        "id": "87z41DA_8cfF",
        "cellView": "form",
        "colab": {
          "base_uri": "https://localhost:8080/"
        },
        "outputId": "8353b0be-1231-4d0c-dd47-3625331a053f"
      },
      "execution_count": 3,
      "outputs": [
        {
          "name": "stdout",
          "output_type": "stream",
          "text": [
            "Selected File: Shera Item.xlsx\n",
            "Enter First column: ไม้ฝาสเปลนดิด\n"
          ]
        }
      ]
    },
    {
      "cell_type": "markdown",
      "source": [
        "เปิดการทำงานอ่านค่าจาก Excel และสร้างตาราง html"
      ],
      "metadata": {
        "id": "96U8vxsy_4aN"
      }
    },
    {
      "cell_type": "code",
      "source": [
        "# @title\n",
        "%%capture\n",
        "%pip install openpyxl\n",
        "import os\n",
        "import re\n",
        "import openpyxl\n",
        "\n",
        "def reader(filepath, sheetnumber, findtext):\n",
        "    textlist = []\n",
        "    workbook = openpyxl.load_workbook(filepath)\n",
        "    sheets = workbook.sheetnames\n",
        "    # sh = workbook[sheets[0]]\n",
        "    sh = workbook[sheets[int(sheetnumber) - 1]]\n",
        "\n",
        "    for row in range(1, sh.max_row + 1):\n",
        "        if str(findtext) in str(sh.cell(row,1).value) :\n",
        "            for selected_row in range(row, sh.max_row + 1):\n",
        "                row_text = []\n",
        "                for column in range(2, sh.max_column + 2):\n",
        "                    if sh.cell(selected_row,column).value != None:\n",
        "                        row_text += [sh.cell(selected_row,column).value]\n",
        "                    else:\n",
        "                        textlist.append(row_text)\n",
        "                        # print (textlist)\n",
        "                        break\n",
        "                if sh.cell(selected_row + 1,1).value != None:\n",
        "                    break\n",
        "        else:\n",
        "            pass\n",
        "    return textlist\n",
        "textlist = reader(xlsx_path, sheetnumber, findtext)\n",
        "\n",
        "\n",
        "%pip install ruamel.yaml\n",
        "from ruamel.yaml import YAML\n",
        "\n",
        "def open_configfile(action, index , newvalue = None):\n",
        "    if (action == \"getvalue\"):\n",
        "        with open(\"config.yaml\", \"r\") as yamlfile:\n",
        "            yaml=YAML(typ=\"rt\")\n",
        "            yaml.preserve_quotes = True\n",
        "            yaml.default_flow_style = False\n",
        "            yaml.default_style = '|'\n",
        "\n",
        "            configfile = yaml.load(yamlfile)\n",
        "            value = configfile[index]\n",
        "            yamlfile.close()\n",
        "            return value\n",
        "\n",
        "    elif (action == \"setvalue\"):\n",
        "        with open(\"config.yaml\", \"r\") as yamlfile:\n",
        "            yaml=YAML()\n",
        "            configfile = yaml.load(yamlfile)\n",
        "\n",
        "        configfile[index] = str(newvalue)\n",
        "        with open(\"config.yaml\", \"w\", encoding=\"utf-8\") as yamlfile:\n",
        "            yaml.preserve_quotes = True\n",
        "            yaml.default_flow_style = False\n",
        "            yaml.default_style = '|'\n",
        "\n",
        "            yaml.dump(configfile, yamlfile)\n",
        "            print(f\"Saved {newvalue} to {index}\")\n",
        "            yamlfile.close()\n",
        "    else:\n",
        "        print(\"wrong action\")\n",
        "\n",
        "def generatehtml(textlist):\n",
        "    tablestyle = open_configfile(action=\"getvalue\", index=\"style_green_header_table\")\n",
        "    tableclass = open_configfile(action=\"getvalue\", index=\"tableclass\")\n",
        "    # print(f'{tablestyle}\\n{tableclass}')\n",
        "\n",
        "    if (textlist == None):\n",
        "        print(\"No textlist\")\n",
        "        return\n",
        "\n",
        "    tableend = '</table>'\n",
        "    htmltext = ''\n",
        "    texthead = '  <tr>'\n",
        "    textrow = ''\n",
        "\n",
        "    for i,textget in enumerate(textlist):\n",
        "        if (i == 0):\n",
        "            headercount = 0\n",
        "            for text in textget:\n",
        "                texthead += f'''\n",
        "    <th onclick=\"sortTable({headercount})\" style=\"background-color:#00b312\">{text}<span class=\"icon\"></span></th>'''\n",
        "                headercount += 1\n",
        "            texthead += '''\n",
        "  </tr>'''\n",
        "        else:\n",
        "            textrow += '\\n  <tr>'\n",
        "            for text in textget:\n",
        "                textrow += f'''\n",
        "    <td>{text}</td>'''\n",
        "            textrow += '''\n",
        "  </tr>'''\n",
        "    # print('table html =\\n',texthead)\n",
        "    # print('row html =\\n',textrow)\n",
        "    htmltext = f'{tablestyle}\\n{tableclass}\\n{texthead}{textrow}\\n{tableend}'\n",
        "    return htmltext\n",
        "\n",
        "html = generatehtml(textlist)"
      ],
      "metadata": {
        "collapsed": true,
        "id": "YdcZyaPu7irz",
        "cellView": "form"
      },
      "execution_count": 7,
      "outputs": []
    },
    {
      "cell_type": "markdown",
      "source": [
        "กดเพือแสดงผลลัพธ์"
      ],
      "metadata": {
        "id": "aTQIk_a8_81W"
      }
    },
    {
      "cell_type": "code",
      "source": [
        "# @title\n",
        "print(html)"
      ],
      "metadata": {
        "id": "QNnkJOa6PwhP",
        "cellView": "form",
        "colab": {
          "base_uri": "https://localhost:8080/"
        },
        "outputId": "cd4efa5d-72e5-4210-cfed-a64c6e1c4856"
      },
      "execution_count": 8,
      "outputs": [
        {
          "output_type": "stream",
          "name": "stdout",
          "text": [
            "<style>\n",
            ".customtable {\n",
            "  max-width: 100%;\n",
            "  margin-top: 10px;\n",
            "  margin-bottom: 10px;\n",
            "  border-width: 1px;\n",
            "  border: 1px solid black;\n",
            "  border-collapse: collapse;\n",
            "  border-style: solid;\n",
            "  overflow-x: auto;\n",
            "  margin: 0 auto;\n",
            "}\n",
            "\n",
            "th, td {\n",
            "  color: #6d6d6f;\n",
            "  font-family: 'Helvetica', 'Arial', sans-serif;\n",
            "  font-size: 18px;\n",
            "  font-weight: bold;\n",
            "  border-width: 1px;\n",
            "  border: 1px solid black;\n",
            "  padding: 4px;\n",
            "  text-align: center;\n",
            "  cursor: pointer;\n",
            "}\n",
            "\n",
            "th {\n",
            "  color: #ffffff;\n",
            "  background-color: #00b312;\n",
            "}\n",
            "\n",
            "@media only screen and (max-width: 480px) {\n",
            "  .customtable {\n",
            "    width: 100%;\n",
            "    margin: 0;\n",
            "    overflow-x: auto;\n",
            "  }\n",
            "\n",
            "  th, td {\n",
            "    font-size: 13px;\n",
            "    padding: 2px;\n",
            "  }\n",
            "}\n",
            "\n",
            "@media only screen and (max-width: 768px) and (min-width: 481px){\n",
            "  .customtable {\n",
            "    width: 100%;\n",
            "    margin: 0;\n",
            "    overflow-x: auto;\n",
            "  }\n",
            "\n",
            "  th, td {\n",
            "    font-size: 16px;\n",
            "    padding: 2px;\n",
            "  }\n",
            "}\n",
            "</style>\n",
            "\n",
            "<script>\n",
            "  function sortTable(n) {\n",
            "    var table, rows, switching, i, x, y, shouldSwitch, dir, switchcount = 0;\n",
            "    table = document.querySelector(\".customtable\");\n",
            "    switching = true;\n",
            "    dir = \"asc\"; // Set the sorting direction to ascending\n",
            "\n",
            "    while (switching) {\n",
            "      switching = false;\n",
            "      rows = table.rows;\n",
            "\n",
            "      for (i = 1; i < rows.length - 1; i++) {\n",
            "        shouldSwitch = false;\n",
            "        x = rows[i].getElementsByTagName(\"TD\")[n];\n",
            "        y = rows[i + 1].getElementsByTagName(\"TD\")[n];\n",
            "\n",
            "        if (dir == \"asc\") {\n",
            "          if (x.innerHTML.toLowerCase() > y.innerHTML.toLowerCase()) {\n",
            "            shouldSwitch = true;\n",
            "            break;\n",
            "          }\n",
            "        } else if (dir == \"desc\") {\n",
            "          if (x.innerHTML.toLowerCase() < y.innerHTML.toLowerCase()) {\n",
            "            shouldSwitch = true;\n",
            "            break;\n",
            "          }\n",
            "        }\n",
            "      }\n",
            "\n",
            "      if (shouldSwitch) {\n",
            "        rows[i].parentNode.insertBefore(rows[i + 1], rows[i]);\n",
            "        switching = true;\n",
            "        switchcount++;\n",
            "      } else {\n",
            "        if (switchcount == 0 && dir == \"asc\") {\n",
            "          dir = \"desc\";\n",
            "          switching = true;\n",
            "        }\n",
            "      }\n",
            "    }\n",
            "\n",
            "    updateSortIndicator(n, dir);\n",
            "  }\n",
            "\n",
            "  function updateSortIndicator(column, direction) {\n",
            "    var headers = document.querySelectorAll(\".icon\");\n",
            "    headers.forEach(function(header) {\n",
            "      header.innerHTML = \"\";\n",
            "    });\n",
            "    var clickedHeader = document.querySelector(\".customtable th:nth-child(\" + (column + 1) + \")\");\n",
            "    clickedHeader.querySelector(\".icon\").innerHTML = direction === \"asc\" ? \"↓\" : \"↑\";\n",
            "  }\n",
            "</script>\n",
            "<table class='customtable'>\n",
            "  <tr>\n",
            "    <th onclick=\"sortTable(0)\" style=\"background-color:#00b312\">รุ่น<span class=\"icon\"></span></th>\n",
            "    <th onclick=\"sortTable(1)\" style=\"background-color:#00b312\">สี<span class=\"icon\"></span></th>\n",
            "    <th onclick=\"sortTable(2)\" style=\"background-color:#00b312\">ขนาด (หนา x กว้าง x ยาว)<span class=\"icon\"></span></th>\n",
            "    <th onclick=\"sortTable(3)\" style=\"background-color:#00b312\">ราคา(บาท)/แผ่น<span class=\"icon\"></span></th>\n",
            "  </tr>\n",
            "  <tr>\n",
            "    <td>รุ่นฟอเรสต้า ลายเสี้ยน</td>\n",
            "    <td>ไวท์โอ๊ค</td>\n",
            "    <td>1 x 15 x 300 ซม.</td>\n",
            "  </tr>\n",
            "  <tr>\n",
            "    <td>รุ่นฟอเรสต้า ลายเสี้ยน</td>\n",
            "    <td>ดาร์ค กราไฟต์</td>\n",
            "    <td>1 x 15 x 300 ซม.</td>\n",
            "  </tr>\n",
            "  <tr>\n",
            "    <td>รุ่นฟอเรสต้า ลายเสี้ยน</td>\n",
            "    <td>เกรย์ กราไฟต์</td>\n",
            "    <td>1 x 15 x 300 ซม.</td>\n",
            "  </tr>\n",
            "  <tr>\n",
            "    <td>รุ่นฟอเรสต้า ลายเสี้ยน</td>\n",
            "    <td>โรสวู้ด</td>\n",
            "    <td>1 x 15 x 300 ซม.</td>\n",
            "  </tr>\n",
            "  <tr>\n",
            "    <td>รุ่นฟอเรสต้า ลายเสี้ยน</td>\n",
            "    <td>เนเชอรัลทีค</td>\n",
            "    <td>1 x 15 x 300 ซม.</td>\n",
            "  </tr>\n",
            "  <tr>\n",
            "    <td>รุ่นวิจิตรนนทรี ลายเสี้ยน</td>\n",
            "    <td>บีช</td>\n",
            "    <td>1 x 15 x 300 ซม.</td>\n",
            "  </tr>\n",
            "  <tr>\n",
            "    <td>รุ่นโมเดิร์นสแทกเกอร์ ผิวเรียบ</td>\n",
            "    <td>ธรรมชาติ</td>\n",
            "    <td>1 x 15 x 300 ซม.</td>\n",
            "  </tr>\n",
            "  <tr>\n",
            "    <td>รุ่นโมเดิร์นสแทกเกอร์ ผิวเรียบ</td>\n",
            "    <td>ธรรมชาติ</td>\n",
            "    <td>1 x 10 x 300 ซม.</td>\n",
            "  </tr>\n",
            "  <tr>\n",
            "    <td>รุ่นโมเดิร์นสแทกเกอร์ ผิวเรียบ</td>\n",
            "    <td>ธรรมชาติ</td>\n",
            "    <td>1 x 20 x 300 ซม.</td>\n",
            "  </tr>\n",
            "  <tr>\n",
            "    <td>รุ่นวิจิตรโกสน ผิวเรียบ</td>\n",
            "    <td>ธรรมชาติ</td>\n",
            "    <td>1 x 15 x 300 ซม.</td>\n",
            "  </tr>\n",
            "  <tr>\n",
            "    <td>รุ่นวิจิตรโกสน ลายชัยพฤกษ์</td>\n",
            "    <td>ธรรมชาติ</td>\n",
            "    <td>1 x 15 x 300 ซม.</td>\n",
            "  </tr>\n",
            "  <tr>\n",
            "    <td>รุ่นวิจิตรชงโค ผิวเรียบ</td>\n",
            "    <td>ธรรมชาติ</td>\n",
            "    <td>1 x 15 x 300 ซม.</td>\n",
            "  </tr>\n",
            "  <tr>\n",
            "    <td>รุ่นวิจิตรชงโค ผิวเรียบ</td>\n",
            "    <td>ธรรมชาติ</td>\n",
            "    <td>1 x 20 x 300 ซม.</td>\n",
            "  </tr>\n",
            "  <tr>\n",
            "    <td>รุ่นวิจิตรชงโค ลายชัยพฤกษ์</td>\n",
            "    <td>ธรรมชาติ</td>\n",
            "    <td>1 x 15 x 300 ซม.</td>\n",
            "  </tr>\n",
            "  <tr>\n",
            "    <td>รุ่นวิจิตรนนทรี ผิวเรียบ</td>\n",
            "    <td>ธรรมชาติ</td>\n",
            "    <td>1 x 15 x 300 ซม.</td>\n",
            "  </tr>\n",
            "  <tr>\n",
            "    <td>รุ่นวิจิตรนนทรี ลายชัยพฤกษ์</td>\n",
            "    <td>ธรรมชาติ</td>\n",
            "    <td>1 x 15 x 300 ซม.</td>\n",
            "  </tr>\n",
            "  <tr>\n",
            "    <td>รุ่นวิจิตรศรีตรัง ลายชัยพฤกษ์</td>\n",
            "    <td>ธรรมชาติ</td>\n",
            "    <td>1 x 15 x 300 ซม.</td>\n",
            "  </tr>\n",
            "  <tr>\n",
            "    <td>รุ่นวิจิตรนนทรี ลายเสี้ยน</td>\n",
            "    <td>ธรรมชาติ</td>\n",
            "    <td>1 x 15 x 300 ซม.</td>\n",
            "  </tr>\n",
            "</table>\n"
          ]
        }
      ]
    }
  ]
}